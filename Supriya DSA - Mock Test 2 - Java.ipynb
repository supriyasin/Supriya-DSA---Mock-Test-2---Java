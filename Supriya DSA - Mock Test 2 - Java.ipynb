{
 "cells": [
  {
   "cell_type": "code",
   "execution_count": 1,
   "id": "4ef4d2f9",
   "metadata": {},
   "outputs": [
    {
     "name": "stdout",
     "output_type": "stream",
     "text": [
      "2\n",
      "2\n"
     ]
    }
   ],
   "source": [
    "#Given a non-negative integer x, return the square root of x rounded down to the nearest integer. The returned integer \n",
    "should be non-negative as well. You must not use any built-in exponent function or operator. \n",
    "\n",
    " Example 1:\n",
    "Input: x = 4 Output: 2 Explanation: The square root of 4 is 2, so we return 2.\n",
    "\n",
    "Example 2:\n",
    "Input: x = 8 Output: 2 Explanation: The square root of 8 is 2.82842..., and since we round it down to the nearest integer, \n",
    "2 is returned.\n",
    "\n",
    "Constraints:\n",
    "0 <= x <= 231 - 1\n",
    "\n",
    "\"\"\"To find the square root of a non-negative integer 'x' and round it down to the nearest integer without using any built-in \n",
    "   exponent function or operator, you can use the binary search approach.\"\"\"\n",
    "\n",
    "#Here's the code to accomplish this:\n",
    "\n",
    "def mySqrt(x):\n",
    "    if x == 0:\n",
    "        return 0\n",
    "    \n",
    "    left = 1\n",
    "    right = x\n",
    "\n",
    "    while left <= right:\n",
    "        mid = (left + right) // 2\n",
    "        if mid * mid <= x and (mid + 1) * (mid + 1) > x:\n",
    "            return mid\n",
    "        elif mid * mid < x:\n",
    "            left = mid + 1\n",
    "        else:\n",
    "            right = mid - 1\n",
    "\n",
    "    return -1  # This line won't be reached in this specific problem\n",
    "\n",
    "# Example usage\n",
    "print(mySqrt(4))  # Output: 2\n",
    "print(mySqrt(8))  # Output: 2\n",
    "\n",
    "\"\"\"The code starts by handling the base case where 'x' is 0, in which case the square root is 0 as well.\n",
    "\n",
    "   Then, it sets up the left and right pointers for the binary search. The search space is initially set to [1, x], as the \n",
    "   square root of 'x' will be between these values.\n",
    "\n",
    "   Inside the while loop, it calculates the midpoint 'mid' using integer division. It then checks if 'mid' squared is less \n",
    "   than or equal to 'x' and if the next number squared (mid + 1) is greater than 'x'. If this condition is true, 'mid' is \n",
    "   the integer square root of 'x', so it is returned.\n",
    "\n",
    "   If 'mid' squared is less than 'x', the search is focused on the right half of the search space by updating the left \n",
    "   pointer to mid + 1.\n",
    "\n",
    "   If 'mid' squared is greater than 'x', the search is focused on the left half of the search space by updating the right \n",
    "   pointer to mid - 1.\n",
    "\n",
    "   The while loop continues until the left pointer becomes greater than the right pointer, indicating that the search \n",
    "   space has been exhausted.\n",
    "\n",
    "   Finally, if no square root is found within the search space, the code returns -1 (this line won't be reached in this\n",
    "   specific problem since the input is always non-negative).\n",
    "\n",
    "   The code runs in logarithmic time complexity of O(log x) since it uses binary search to find the square root.\n",
    "\n",
    "   Note: The code assumes that 'x' is within the valid constraints specified in the problem (0 <= x <= 231 - 1).\"\"\"\n"
   ]
  },
  {
   "cell_type": "code",
   "execution_count": null,
   "id": "07ee2d13",
   "metadata": {},
   "outputs": [],
   "source": []
  }
 ],
 "metadata": {
  "kernelspec": {
   "display_name": "Python 3 (ipykernel)",
   "language": "python",
   "name": "python3"
  },
  "language_info": {
   "codemirror_mode": {
    "name": "ipython",
    "version": 3
   },
   "file_extension": ".py",
   "mimetype": "text/x-python",
   "name": "python",
   "nbconvert_exporter": "python",
   "pygments_lexer": "ipython3",
   "version": "3.9.12"
  }
 },
 "nbformat": 4,
 "nbformat_minor": 5
}
